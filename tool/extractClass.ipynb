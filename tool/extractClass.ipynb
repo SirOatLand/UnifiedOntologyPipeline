{
 "cells": [
  {
   "cell_type": "code",
   "execution_count": 52,
   "metadata": {},
   "outputs": [],
   "source": [
    "from rdflib import Graph\n",
    "import pandas as pd\n",
    "from dotenv import load_dotenv\n",
    "import os\n",
    "from transformers import AutoModelForSequenceClassification, BertTokenizer, pipeline\n",
    "from itertools import permutations"
   ]
  },
  {
   "cell_type": "code",
   "execution_count": 68,
   "metadata": {},
   "outputs": [],
   "source": [
    "def loginHuggingFace():\n",
    "    load_dotenv()\n",
    "    HUGGINGFACE_APIKEY = os.getenv('HUGGINGFACE_APIKEY')\n",
    "    !huggingface-cli login --token {HUGGINGFACE_APIKEY}"
   ]
  },
  {
   "cell_type": "code",
   "execution_count": null,
   "metadata": {},
   "outputs": [],
   "source": [
    "def getOntoClasses(path_to_onto):\n",
    "    g = Graph()\n",
    "    g.parse(path_to_onto)\n",
    "    query = f\"\"\"\n",
    "    PREFIX rdfs: <http://www.w3.org/2000/01/rdf-schema#>\n",
    "    PREFIX owl: <http://www.w3.org/2002/07/owl#>\n",
    "\n",
    "    SELECT DISTINCT ?className\n",
    "    WHERE {{\n",
    "            {{\n",
    "                ?class a rdfs:Class .\n",
    "                ?class rdfs:label ?classLabel .\n",
    "                BIND(?classLabel AS ?className)  # Use label if available\n",
    "            }}\n",
    "        UNION\n",
    "            {{\n",
    "                ?class a owl:Class .\n",
    "                FILTER NOT EXISTS {{ ?class rdfs:label ?anyLabel }}  # Ensure no label exists\n",
    "                BIND(REPLACE(STR(?class), \"^.*[/#]\", \"\") AS ?className)  # Extract local name\n",
    "            }}\n",
    "    }}\n",
    "    \"\"\"\n",
    "    qres = g.query(query)\n",
    "    df = pd.DataFrame(qres.bindings)\n",
    "    df.columns = df.columns.str.replace(' ', '')\n",
    "    \n",
    "    return df"
   ]
  },
  {
   "cell_type": "code",
   "execution_count": null,
   "metadata": {},
   "outputs": [],
   "source": [
    "def getClassifier(name_tokenizer, name_model, name_pipeline):\n",
    "    tokenizer = BertTokenizer.from_pretrained(name_tokenizer)\n",
    "    model = AutoModelForSequenceClassification.from_pretrained(name_model)\n",
    "    classifier = pipeline(name_pipeline, model=model, tokenizer=tokenizer)\n",
    "\n",
    "    return classifier"
   ]
  },
  {
   "cell_type": "code",
   "execution_count": null,
   "metadata": {},
   "outputs": [],
   "source": [
    "def getPredictions(classifier, df):\n",
    "    predictions = []\n",
    "    classA = ''\n",
    "    classB = ''\n",
    "    for classA, classB in permutations(df.iloc[:, 0], 2): \n",
    "        prediction = classifier(f\"{classA} [SEP] {classB}\")\n",
    "        prediction[0].update({'classA': classA, 'classB': classB})\n",
    "        predictions.append(prediction[0])\n",
    "\n",
    "    return pd.DataFrame(predictions)"
   ]
  },
  {
   "cell_type": "code",
   "execution_count": null,
   "metadata": {},
   "outputs": [],
   "source": [
    "def sortPredictions(df_pred):\n",
    "      # Select top 2 for each (classA, label)\n",
    "    df_sorted = df_pred[df_pred.label != \"LABEL_0\"].sort_values(by=\"score\", ascending=False)\n",
    "    df_top = df_sorted.groupby([\"classA\", \"label\"]).head(1).sort_values(by=\"classA\")\n",
    "\n",
    "    return df_top"
   ]
  }
 ],
 "metadata": {
  "kernelspec": {
   "display_name": "bert",
   "language": "python",
   "name": "python3"
  },
  "language_info": {
   "codemirror_mode": {
    "name": "ipython",
    "version": 3
   },
   "file_extension": ".py",
   "mimetype": "text/x-python",
   "name": "python",
   "nbconvert_exporter": "python",
   "pygments_lexer": "ipython3",
   "version": "3.12.9"
  }
 },
 "nbformat": 4,
 "nbformat_minor": 2
}
