{
 "cells": [
  {
   "cell_type": "code",
   "execution_count": null,
   "metadata": {},
   "outputs": [],
   "source": [
    "import import_ipynb\n",
    "from appendOnto import append_file, process_lines\n",
    "from connectIndividuals import getNamespace, connectIndividuals, clear_serialize\n",
    "from rdflib import Graph\n",
    "from os import walk, stat"
   ]
  },
  {
   "cell_type": "code",
   "execution_count": null,
   "metadata": {},
   "outputs": [],
   "source": [
    "def getFilenames(input_path, extension=''):\n",
    "    return [f for f in next(walk(input_path), (None, None, []))[2] if f.endswith('.ttl')]  # [] if no file"
   ]
  },
  {
   "cell_type": "code",
   "execution_count": null,
   "metadata": {},
   "outputs": [],
   "source": [
    "input_path = \"./1_ontologiesInput/\"\n",
    "connect_output_DIR = \"./2_connectOutput/\"\n",
    "merge_output_DIR = \"./3_mergeOutput/\"\n",
    "input = getFilenames(input_path, '.ttl')"
   ]
  },
  {
   "cell_type": "code",
   "execution_count": null,
   "metadata": {},
   "outputs": [],
   "source": [
    "\"\"\"\n",
    "Every files in {input_path} will be updated with a new class,\n",
    "and an individual from said class.\n",
    "The class is named \"CybersecurityNewsArticle\", and the individual is named after the file's name.\n",
    "Every other individuals in the ontology will have object property of \"relatedTo\" to said individual. \n",
    "\"\"\"\n",
    "\n",
    "connected = []\n",
    "news_class = \"CybersecurityNewsArticle\"\n",
    "\n",
    "for ind, file in enumerate(input):\n",
    "    if stat(input_path + file).st_size == 0: # skip empty files\n",
    "        continue\n",
    "    g = Graph()\n",
    "    process_lines(f\"{input_path}{file}\", f\"{input_path}{file}\")\n",
    "    g.parse(f\"{input_path}{file}\", format=\"ttl\")\n",
    "\n",
    "    prefix, uri = getNamespace(g)\n",
    "    news_name = file.split('.')[0]  # Get filename, exclude extension\n",
    "    connectIndividuals(g, prefix, uri, news_name, news_class)   \n",
    "\n",
    "    OutputDes = f\"{connect_output_DIR}{news_name}_connected.ttl\"  # Get new files' names\n",
    "    connected.append(OutputDes)\n",
    "    clear_serialize(g, OutputDes)"
   ]
  },
  {
   "cell_type": "code",
   "execution_count": null,
   "metadata": {},
   "outputs": [],
   "source": [
    "merged_file = f\"{merge_output_DIR}UnifiedOntology.ttl\""
   ]
  },
  {
   "cell_type": "code",
   "execution_count": null,
   "metadata": {},
   "outputs": [],
   "source": [
    "for ind, connected_file in enumerate(connected):\n",
    "    append_file(source_file=connected_file, target_file=merged_file)"
   ]
  },
  {
   "cell_type": "code",
   "execution_count": null,
   "metadata": {},
   "outputs": [],
   "source": [
    "g = Graph()\n",
    "g.parse(merged_file, format=\"ttl\")\n",
    "clear_serialize(g, merged_file)"
   ]
  }
 ],
 "metadata": {
  "kernelspec": {
   "display_name": "bert",
   "language": "python",
   "name": "python3"
  },
  "language_info": {
   "codemirror_mode": {
    "name": "ipython",
    "version": 3
   },
   "file_extension": ".py",
   "mimetype": "text/x-python",
   "name": "python",
   "nbconvert_exporter": "python",
   "pygments_lexer": "ipython3",
   "version": "undefined.undefined.undefined"
  }
 },
 "nbformat": 4,
 "nbformat_minor": 2
}
