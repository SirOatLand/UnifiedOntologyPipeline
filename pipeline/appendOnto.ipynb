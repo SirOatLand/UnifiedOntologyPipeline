{
 "cells": [
  {
   "cell_type": "code",
   "execution_count": 1,
   "metadata": {},
   "outputs": [],
   "source": [
    "from rdflib import Namespace, Graph\n",
    "from rdflib.namespace import NamespaceManager, OWL, RDF, RDFS, XSD\n",
    "import re\n",
    "from decimal import Decimal"
   ]
  },
  {
   "cell_type": "code",
   "execution_count": 2,
   "metadata": {},
   "outputs": [],
   "source": [
    "def append_file(source_file, target_file):\n",
    "    with open(source_file, 'r') as src, open(target_file, 'a+') as tgt:\n",
    "        tgt.write(src.read())"
   ]
  },
  {
   "cell_type": "code",
   "execution_count": 3,
   "metadata": {},
   "outputs": [],
   "source": [
    "prefixes = [\n",
    "\"@prefix owl: <http://www.w3.org/2002/07/owl#> .\\n\",\n",
    "\"@prefix rdf: <http://www.w3.org/1999/02/22-rdf-syntax-ns#> .\\n\",\n",
    "\"@prefix xml: <http://www.w3.org/XML/1998/namespace> .\\n\",\n",
    "\"@prefix xsd: <http://www.w3.org/2001/XMLSchema#> .\\n\",\n",
    "\"@prefix rdfs: <http://www.w3.org/2000/01/rdf-schema#> .\\n\",\n",
    "\"@prefix ex: <http://example.org/ontology#> . \\n\"\n",
    "\"@base <http://example.org/ontology/> .\\n\"]"
   ]
  },
  {
   "cell_type": "code",
   "execution_count": 4,
   "metadata": {},
   "outputs": [],
   "source": [
    "def escape_special_chars(match):\n",
    "    word = match.group()\n",
    "    # Define special characters to escape (only if not already escaped)\n",
    "    special_chars = r'([&\\.\\^\\$\\*\\+\\?\\{\\}\\[\\]\\|()])'  # Removed extra backslash\n",
    "\n",
    "    # Apply escaping only if the character is NOT already escaped\n",
    "    escaped_word = re.sub(r'(?<!\\\\)' + special_chars, r'\\\\\\1', word)\n",
    "    return escaped_word\n",
    "\n",
    "# def process_text(text):\n",
    "#     # Define the pattern to match words starting with 'news:'\n",
    "#     pattern = r'\\bnews:\\S*'\n",
    "#     # Apply the substitution using the escape_special_chars function\n",
    "#     processed_text = re.sub(pattern, escape_special_chars, text)\n",
    "#     return processed_text"
   ]
  },
  {
   "cell_type": "code",
   "execution_count": 15,
   "metadata": {},
   "outputs": [],
   "source": [
    "# Function to clean and convert percentage values to decimal\n",
    "def clean_percentage_to_decimal(match):\n",
    "    value = match.group(1).strip('\"')  # Extract the value (remove quotes)\n",
    "    if \"%\" in value:\n",
    "        value = value.replace('%', '')  # Remove the percentage symbol\n",
    "        # Convert to decimal (e.g., 20% becomes 0.2)\n",
    "        decimal_value = Decimal(value) / 100\n",
    "        return f'\"{decimal_value}\"^^xsd:decimal'\n",
    "    else:\n",
    "        # Return the value as is if it's already a valid decimal\n",
    "        return match.group(0)"
   ]
  },
  {
   "cell_type": "code",
   "execution_count": 16,
   "metadata": {},
   "outputs": [],
   "source": [
    "def process_text(line):\n",
    "    pattern = r'(\".*?\")\\^\\^xsd:decimal'\n",
    "    return re.sub(pattern, clean_percentage_to_decimal, line)"
   ]
  },
  {
   "cell_type": "code",
   "execution_count": 17,
   "metadata": {},
   "outputs": [],
   "source": [
    "def process_lines(input_file, output_file):\n",
    "    with open(input_file, 'r', encoding='utf-8') as file:\n",
    "        lines = file.readlines()\n",
    "\n",
    "    # Create a new list with prefixes at the beginning\n",
    "    processed_lines = prefixes[:]  # Copy the list of prefixes\n",
    "    i = 0  # Start from the first line of the input file\n",
    "\n",
    "    while i < len(lines):\n",
    "        line = lines[i].strip()\n",
    "        if line.startswith('@') or line.startswith('<'):\n",
    "            # Skip lines starting with '@' or '<'\n",
    "            i += 1\n",
    "        else:\n",
    "            # Process and append the line\n",
    "            processed_lines.append(process_text(line) + '\\n')  # Ensure newline formatting\n",
    "            i += 1\n",
    "\n",
    "    # Write the processed lines to the output file\n",
    "    with open(output_file, 'w', encoding='utf-8') as file:\n",
    "        file.writelines(processed_lines)"
   ]
  }
 ],
 "metadata": {
  "kernelspec": {
   "display_name": "Python 3",
   "language": "python",
   "name": "python3"
  },
  "language_info": {
   "codemirror_mode": {
    "name": "ipython",
    "version": 3
   },
   "file_extension": ".py",
   "mimetype": "text/x-python",
   "name": "python",
   "nbconvert_exporter": "python",
   "pygments_lexer": "ipython3",
   "version": "3.12.1"
  }
 },
 "nbformat": 4,
 "nbformat_minor": 2
}
