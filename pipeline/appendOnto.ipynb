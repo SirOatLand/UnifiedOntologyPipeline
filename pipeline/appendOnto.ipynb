{
 "cells": [
  {
   "cell_type": "code",
   "execution_count": 4,
   "metadata": {},
   "outputs": [],
   "source": [
    "from rdflib import Namespace, Graph\n",
    "from rdflib.namespace import NamespaceManager, OWL, RDF, RDFS, XSD\n",
    "import re"
   ]
  },
  {
   "cell_type": "code",
   "execution_count": 5,
   "metadata": {},
   "outputs": [],
   "source": [
    "def append_file(source_file, target_file):\n",
    "    with open(source_file, 'r') as src, open(target_file, 'a+') as tgt:\n",
    "        tgt.write(src.read())"
   ]
  },
  {
   "cell_type": "code",
   "execution_count": 6,
   "metadata": {},
   "outputs": [],
   "source": [
    "prefixes = [\n",
    "\"@prefix owl: <http://www.w3.org/2002/07/owl#> .\\n\",\n",
    "\"@prefix rdf: <http://www.w3.org/1999/02/22-rdf-syntax-ns#> .\\n\",\n",
    "\"@prefix xml: <http://www.w3.org/XML/1998/namespace> .\\n\",\n",
    "\"@prefix xsd: <http://www.w3.org/2001/XMLSchema#> .\\n\",\n",
    "\"@prefix rdfs: <http://www.w3.org/2000/01/rdf-schema#> .\\n\",\n",
    "\"@prefix ex: <http://example.org/ontology#> . \\n\"\n",
    "\"@base <http://example.org/ontology/> .\\n\"]"
   ]
  },
  {
   "cell_type": "code",
   "execution_count": 7,
   "metadata": {},
   "outputs": [],
   "source": [
    "def escape_special_chars(match):\n",
    "    word = match.group()\n",
    "    # Define special characters to escape (only if not already escaped)\n",
    "    special_chars = r'([&\\.\\^\\$\\*\\+\\?\\{\\}\\[\\]\\|()])'  # Removed extra backslash\n",
    "\n",
    "    # Apply escaping only if the character is NOT already escaped\n",
    "    escaped_word = re.sub(r'(?<!\\\\)' + special_chars, r'\\\\\\1', word)\n",
    "    return escaped_word\n",
    "\n",
    "def process_text(text):\n",
    "    # Define the pattern to match words starting with 'news:'\n",
    "    pattern = r'\\bnews:\\S*'\n",
    "    # Apply the substitution using the escape_special_chars function\n",
    "    processed_text = re.sub(pattern, escape_special_chars, text)\n",
    "    return processed_text"
   ]
  },
  {
   "cell_type": "code",
   "execution_count": 8,
   "metadata": {},
   "outputs": [],
   "source": [
    "def process_lines(input_file, output_file):\n",
    "    with open(input_file, 'r', encoding='utf-8') as file:\n",
    "        lines = file.readlines()\n",
    "\n",
    "    # Create a new list with prefixes at the beginning\n",
    "    processed_lines = prefixes[:]  # Copy the list of prefixes\n",
    "    i = 0  # Start from the first line of the input file\n",
    "\n",
    "    while i < len(lines):\n",
    "        line = lines[i].strip()\n",
    "        if line.startswith('@') or line.startswith('<'):\n",
    "            # Skip lines starting with '@' or '<'\n",
    "            i += 1\n",
    "        else:\n",
    "            # Process and append the line\n",
    "            processed_lines.append(process_text(line) + '\\n')  # Ensure newline formatting\n",
    "            i += 1\n",
    "\n",
    "    # Write the processed lines to the output file\n",
    "    with open(output_file, 'w', encoding='utf-8') as file:\n",
    "        file.writelines(processed_lines)"
   ]
  }
 ],
 "metadata": {
  "kernelspec": {
   "display_name": "bert",
   "language": "python",
   "name": "python3"
  },
  "language_info": {
   "codemirror_mode": {
    "name": "ipython",
    "version": 3
   },
   "file_extension": ".py",
   "mimetype": "text/x-python",
   "name": "python",
   "nbconvert_exporter": "python",
   "pygments_lexer": "ipython3",
   "version": "3.12.1"
  }
 },
 "nbformat": 4,
 "nbformat_minor": 2
}
