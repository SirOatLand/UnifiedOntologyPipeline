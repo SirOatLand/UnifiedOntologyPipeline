{
 "cells": [
  {
   "cell_type": "code",
   "execution_count": 11,
   "metadata": {},
   "outputs": [],
   "source": [
    "from rdflib import Namespace, Graph, URIRef\n",
    "from rdflib.namespace import NamespaceManager, OWL, RDF, RDFS, XSD"
   ]
  },
  {
   "cell_type": "code",
   "execution_count": 12,
   "metadata": {},
   "outputs": [],
   "source": [
    "# Get last element which is the base uri\n",
    "def getNamespace(g):\n",
    "    namespaces = g.namespaces()\n",
    "    base_prefix = ''\n",
    "    base_uri = ''\n",
    "\n",
    "    for prefix, uri in namespaces:\n",
    "        base_prefix, base_uri = prefix, uri\n",
    "    return (base_prefix, base_uri)\n"
   ]
  },
  {
   "cell_type": "code",
   "execution_count": 1,
   "metadata": {},
   "outputs": [],
   "source": [
    "def connectIndividuals(g, prefix, uri, news_name, news_class):\n",
    "    query = f\"\"\"\n",
    "    PREFIX {prefix}: <{uri}>\n",
    "    PREFIX rdf: <http://www.w3.org/1999/02/22-rdf-syntax-ns#>\n",
    "    PREFIX rdfs: <http://www.w3.org/2000/01/rdf-schema#>\n",
    "    PREFIX owl: <http://www.w3.org/2002/07/owl#> \n",
    "    INSERT {{\n",
    "        {prefix}:{news_class} a rdfs:Class ;\n",
    "            rdfs:label \"{news_class}\" .\n",
    "\n",
    "        {prefix}:relatedTo a owl:ObjectProperty ;\n",
    "            rdfs:label \"related to\" ;\n",
    "            rdfs:domain {prefix}:{news_class} .\n",
    "\n",
    "        {prefix}:{news_name} a {prefix}:{news_class} ;\n",
    "            {prefix}:relatedTo ?otherIndiv .\n",
    "    }}\n",
    "    WHERE {{\n",
    "        SELECT ?otherIndiv\n",
    "        WHERE {{\n",
    "            ?otherIndiv a ?type .\n",
    "            FILTER(?otherIndiv != {prefix}:{news_name})\n",
    "            FILTER NOT EXISTS {{ ?otherIndiv rdf:type rdfs:Class }}\n",
    "            FILTER NOT EXISTS {{ ?otherIndiv rdf:type rdf:Property }}\n",
    "            FILTER NOT EXISTS {{ ?otherIndiv rdf:type owl:Ontology }}\n",
    "            FILTER NOT EXISTS {{ ?otherIndiv rdf:type owl:ObjectProperty }}\n",
    "            FILTER NOT EXISTS {{ ?otherIndiv rdf:type owl:DatatypeProperty }}\n",
    "            FILTER NOT EXISTS {{ ?otherIndiv rdf:type owl:AnnotationProperty }}\n",
    "        }}\n",
    "    }}\n",
    "\n",
    "    \"\"\"\n",
    "\n",
    "    g.update(query)"
   ]
  },
  {
   "cell_type": "code",
   "execution_count": 14,
   "metadata": {},
   "outputs": [],
   "source": [
    "def clear_serialize(g, outputDes):\n",
    "    open(f\"{outputDes}\", 'w').close() # Clear destination file content\n",
    "    g.serialize(destination=f\"{outputDes}\", format=\"turtle\")"
   ]
  }
 ],
 "metadata": {
  "kernelspec": {
   "display_name": "bert",
   "language": "python",
   "name": "python3"
  },
  "language_info": {
   "codemirror_mode": {
    "name": "ipython",
    "version": 3
   },
   "file_extension": ".py",
   "mimetype": "text/x-python",
   "name": "python",
   "nbconvert_exporter": "python",
   "pygments_lexer": "ipython3",
   "version": "3.12.1"
  }
 },
 "nbformat": 4,
 "nbformat_minor": 2
}
